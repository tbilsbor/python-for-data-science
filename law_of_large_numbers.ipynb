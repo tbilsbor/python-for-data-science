{
 "cells": [
  {
   "cell_type": "markdown",
   "metadata": {},
   "source": [
    "# Law of Large Numbers"
   ]
  },
  {
   "cell_type": "markdown",
   "metadata": {},
   "source": [
    "Law of Large Numbers homework exercise from Python for Data Science course\n",
    "\n",
    "Law of large numbers: The average across a sample converges to the expected value when n increases to infinity\n",
    "\n",
    "Objective: Test the Law of Large Numbers for N randomly normally distributed numbers with mean = 0, stdev = 1\n",
    "Create a python script that will count how many of these numbers fall between -1 and 1 and divide the total quantity by N\n",
    "You know that E(X) = 68.2%\n",
    "Check that Mean(Xn) -> E(X) as you rerun your script while increasing N\n",
    "\n",
    "I'm doing this without having watched any of the prior lessons because it all seemed like introductory stuff. So this might not exactly match the given solution implementation\n",
    "\n",
    "To start with, I'll obviously need random numbers"
   ]
  },
  {
   "cell_type": "code",
   "execution_count": 1,
   "metadata": {},
   "outputs": [],
   "source": [
    "import random"
   ]
  },
  {
   "cell_type": "markdown",
   "metadata": {},
   "source": [
    "And I'll want to repeat this with larger and larger values of N, which I'll want to do without having to copy and paste the code, so I'll need a function to generate N random numbers and check whether they fall within the expected value"
   ]
  },
  {
   "cell_type": "code",
   "execution_count": 16,
   "metadata": {},
   "outputs": [],
   "source": [
    "def test_numbers(n):\n",
    "    \"\"\"Generate n numbers in a normal distribution\n",
    "    Return the percentage that falls in between -1 and 1\"\"\"\n",
    "    count = 0\n",
    "    for _ in range(n):\n",
    "        test_value = random.normalvariate(0, 1)\n",
    "        if test_value >= -1 and test_value <= 1:\n",
    "            count += 1\n",
    "    return \"{0:.4f}\".format(count / n)"
   ]
  },
  {
   "cell_type": "markdown",
   "metadata": {},
   "source": [
    "I'll test with n = 1 and then go up by orders of magnitude"
   ]
  },
  {
   "cell_type": "code",
   "execution_count": 19,
   "metadata": {},
   "outputs": [
    {
     "name": "stdout",
     "output_type": "stream",
     "text": [
      "N = 1: Avg = 1.0000\n",
      "N = 10: Avg = 0.6000\n",
      "N = 100: Avg = 0.7100\n",
      "N = 1000: Avg = 0.6860\n",
      "N = 10000: Avg = 0.6836\n",
      "N = 100000: Avg = 0.6836\n",
      "N = 1000000: Avg = 0.6828\n"
     ]
    }
   ],
   "source": [
    "n = 1\n",
    "while n <= 1000000:\n",
    "    print(\"N = {}: Avg = {}\".format(n, test_numbers(n)))\n",
    "    n *= 10"
   ]
  },
  {
   "cell_type": "markdown",
   "metadata": {},
   "source": [
    "Can't get much more clear than that. Obvious convergence on 68.2%, as expected"
   ]
  },
  {
   "cell_type": "code",
   "execution_count": null,
   "metadata": {},
   "outputs": [],
   "source": []
  }
 ],
 "metadata": {
  "kernelspec": {
   "display_name": "Python 3",
   "language": "python",
   "name": "python3"
  },
  "language_info": {
   "codemirror_mode": {
    "name": "ipython",
    "version": 3
   },
   "file_extension": ".py",
   "mimetype": "text/x-python",
   "name": "python",
   "nbconvert_exporter": "python",
   "pygments_lexer": "ipython3",
   "version": "3.6.5"
  }
 },
 "nbformat": 4,
 "nbformat_minor": 2
}
