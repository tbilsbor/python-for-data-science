{
 "cells": [
  {
   "cell_type": "markdown",
   "metadata": {},
   "source": [
    "# Financial Statement Analysis\n",
    "\n",
    "Financial statement analysis homework project from python for data analysis course\n",
    "\n",
    "Objective: Assess the financial statement of organization X\n",
    "\n",
    "Given monthly revenue and monthly expenses, determine:\n",
    "\n",
    "-Profit for each month\n",
    "\n",
    "-Profit after tax (30%) for each month\n",
    "\n",
    "-Profit margin for each month (profit after tax divided by revenue)\n",
    "\n",
    "-Good months (profit after tax greater than the mean for the year)\n",
    "\n",
    "-Bad months (profit after tax less than the mean for the year)\n",
    "\n",
    "-Best month (profit after tax max for the year)\n",
    "\n",
    "-Worst month (profit after tax min for the year)\n",
    "\n",
    "Requirements:\n",
    "\n",
    "-All results presented as lists\n",
    "\n",
    "-Results for dollar values calculated to 0.01 precision, and presented in units of 1000 with no decimal places\n",
    "\n",
    "-Results for profit margins presented as percentages with no decimal places"
   ]
  },
  {
   "cell_type": "code",
   "execution_count": 1,
   "metadata": {},
   "outputs": [],
   "source": [
    "# Data - renamed from \"revenue\" and \"expenses\" to \"rev\" and \"exp\" because I'll be discarding these to work with\n",
    "# numpy arrays\n",
    "rev = [14574.49, 7606.46, 8611.41, 9175.41, 8058.65, 8105.44, 11496.28, 9766.09, 10305.32, 14379.96, 10713.97, 15433.50]\n",
    "exp = [12051.82, 5695.07, 12319.20, 12089.72, 8658.57, 840.20, 3285.73, 5821.12, 6976.93, 16618.61, 10054.37, 3803.96]"
   ]
  },
  {
   "cell_type": "code",
   "execution_count": 2,
   "metadata": {},
   "outputs": [],
   "source": [
    "import numpy as np"
   ]
  },
  {
   "cell_type": "code",
   "execution_count": 3,
   "metadata": {},
   "outputs": [],
   "source": [
    "# Convert data to numpy arrays\n",
    "revenue = np.array(rev)\n",
    "expenses = np.array(exp)"
   ]
  },
  {
   "cell_type": "markdown",
   "metadata": {},
   "source": [
    "## Monthly Profit"
   ]
  },
  {
   "cell_type": "code",
   "execution_count": 4,
   "metadata": {},
   "outputs": [
    {
     "name": "stdout",
     "output_type": "stream",
     "text": [
      "Monthly profits (thousands of dollars)\n",
      "\n",
      "1: 2\n",
      "2: 1\n",
      "3: -4\n",
      "4: -3\n",
      "5: -1\n",
      "6: 7\n",
      "7: 8\n",
      "8: 3\n",
      "9: 3\n",
      "10: -3\n",
      "11: 0\n",
      "12: 11\n"
     ]
    }
   ],
   "source": [
    "profit_monthly = (revenue - expenses)\n",
    "print(\"Monthly profits (thousands of dollars)\\n\")\n",
    "for m in range(1, 13):\n",
    "    print(\"{}: {}\".format(m, int(profit_monthly[m-1] // 1000)))"
   ]
  },
  {
   "cell_type": "markdown",
   "metadata": {},
   "source": [
    "## Monthly Profit After Tax"
   ]
  },
  {
   "cell_type": "code",
   "execution_count": 5,
   "metadata": {},
   "outputs": [
    {
     "name": "stdout",
     "output_type": "stream",
     "text": [
      "Monthly profits after tax (thousands of dollars)\n",
      "\n",
      "1: 1\n",
      "2: 1\n",
      "3: -3\n",
      "4: -3\n",
      "5: -1\n",
      "6: 5\n",
      "7: 5\n",
      "8: 2\n",
      "9: 2\n",
      "10: -2\n",
      "11: 0\n",
      "12: 8\n"
     ]
    }
   ],
   "source": [
    "tax = np.array(profit_monthly * 0.3)\n",
    "profit_monthly_after_tax = (profit_monthly - tax).tolist()\n",
    "print(\"Monthly profits after tax (thousands of dollars)\\n\")\n",
    "for m in range(1, 13):\n",
    "    print(\"{}: {}\".format(m, int(profit_monthly_after_tax[m-1] // 1000)))"
   ]
  },
  {
   "cell_type": "markdown",
   "metadata": {},
   "source": [
    "## Profit margin for each month"
   ]
  },
  {
   "cell_type": "code",
   "execution_count": 6,
   "metadata": {},
   "outputs": [
    {
     "name": "stdout",
     "output_type": "stream",
     "text": [
      "Monthly profit margin\n",
      "\n",
      "1: 12%\n",
      "2: 17%\n",
      "3: -30%\n",
      "4: -22%\n",
      "5: -5%\n",
      "6: 62%\n",
      "7: 49%\n",
      "8: 28%\n",
      "9: 22%\n",
      "10: -10%\n",
      "11: 4%\n",
      "12: 52%\n"
     ]
    }
   ],
   "source": [
    "margins_monthly = (profit_monthly_after_tax / revenue) * 100\n",
    "print(\"Monthly profit margin\\n\")\n",
    "for m in range(1, 13):\n",
    "    print(\"{}: {}%\".format(m, int(margins_monthly[m-1])))"
   ]
  },
  {
   "cell_type": "markdown",
   "metadata": {},
   "source": [
    "## Best Months"
   ]
  },
  {
   "cell_type": "code",
   "execution_count": 7,
   "metadata": {},
   "outputs": [
    {
     "name": "stdout",
     "output_type": "stream",
     "text": [
      "Good months\n",
      "\n",
      "2, 6, 7, 8, 9, 12\n",
      "\n",
      "Best Month\n",
      "\n",
      "6\n"
     ]
    }
   ],
   "source": [
    "mean_profit_margin = margins_monthly.mean()\n",
    "good_months = [m for m in range(1, 13) if margins_monthly[m-1] > mean_profit_margin]\n",
    "print(\"Good months\\n\")\n",
    "print(*good_months, sep=\", \")\n",
    "print(\"\\nBest Month\\n\")\n",
    "print(margins_monthly.argmax() + 1)"
   ]
  },
  {
   "cell_type": "markdown",
   "metadata": {},
   "source": [
    "## Worst Months"
   ]
  },
  {
   "cell_type": "code",
   "execution_count": 8,
   "metadata": {},
   "outputs": [
    {
     "name": "stdout",
     "output_type": "stream",
     "text": [
      "Bad months\n",
      "\n",
      "1, 3, 4, 5, 10, 11\n",
      "\n",
      "Worst Month\n",
      "\n",
      "3\n"
     ]
    }
   ],
   "source": [
    "bad_months = [m for m in range(1, 13) if margins_monthly[m-1] < mean_profit_margin]\n",
    "print(\"Bad months\\n\")\n",
    "print(*bad_months, sep=\", \")\n",
    "print(\"\\nWorst Month\\n\")\n",
    "print(margins_monthly.argmin() + 1)"
   ]
  }
 ],
 "metadata": {
  "kernelspec": {
   "display_name": "Python 3",
   "language": "python",
   "name": "python3"
  },
  "language_info": {
   "codemirror_mode": {
    "name": "ipython",
    "version": 3
   },
   "file_extension": ".py",
   "mimetype": "text/x-python",
   "name": "python",
   "nbconvert_exporter": "python",
   "pygments_lexer": "ipython3",
   "version": "3.6.5"
  }
 },
 "nbformat": 4,
 "nbformat_minor": 2
}
